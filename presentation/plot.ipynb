{
 "cells": [
  {
   "cell_type": "code",
   "execution_count": null,
   "outputs": [],
   "source": [
    "import numpy as np\n",
    "# Updated X-axis values to include 1500\n",
    "x_updated = np.array([0, 500, 1000, 1500, 2000, 2500, 3000, 3500, 4000])"
   ],
   "metadata": {
    "collapsed": false
   },
   "id": "initial_id"
  },
  {
   "cell_type": "code",
   "execution_count": null,
   "outputs": [],
   "source": [
    "y_uie_updated=[0.5908383188652863,\n",
    " 0.6596680073620834,\n",
    " 0.7132278193777095,\n",
    " 0.7896348530295034,\n",
    " 0.8290217618713123,\n",
    " 0.879239313541523,\n",
    " 0.8919628456118968,\n",
    " 0.9308124569098635,\n",
    " 0.945801687336078]\n",
    "y_uie_do_updated=[0.5940365713013874,\n",
    " 0.6656614040409283,\n",
    " 0.7842572302952606,\n",
    " 0.8402094079017326,\n",
    " 0.8752155134759705,\n",
    " 0.9150043436283943,\n",
    " 0.9337630030104517,\n",
    " 0.9415,\n",
    " 0.9515]\n",
    "y_uie_se_updated=[0.5806571519390215,\n",
    " 0.6720625560399772,\n",
    " 0.7569099040906505,\n",
    " 0.7959337315618993,\n",
    " 0.8431216700318903,\n",
    " 0.885790673219968,\n",
    " 0.9111188511643983,\n",
    " 0.9302345335423093,\n",
    " 0.9535]\n",
    "y_uie_do_se_updated=[0.5936619881961215,\n",
    " 0.66476453761763152,\n",
    " 0.7479074010699449,\n",
    " 0.81440886130036,\n",
    " 0.8699838121985715,\n",
    " 0.9133121045464411,\n",
    " 0.9442104196472671,\n",
    " 0.9524445603256244,\n",
    " 0.9627685855042905]"
   ],
   "metadata": {
    "collapsed": false
   },
   "id": "42a8f36bdc152aa8"
  },
  {
   "cell_type": "code",
   "execution_count": null,
   "outputs": [],
   "source": [
    "# Plotting the smooth data for the first graph with transparent background\n",
    "import matplotlib.pyplot as plt\n",
    "plt.figure(figsize=(12, 7))\n",
    "\n",
    "plt.plot(x_updated, y_uie_updated, '-o', label='UIE', color='blue')\n",
    "plt.plot(x_updated, y_uie_do_updated, '-o', label='UIE-DO', color='green')\n",
    "plt.plot(x_updated, y_uie_se_updated, '-o', label='UIE-SE', color='red')\n",
    "plt.plot(x_updated, y_uie_do_se_updated, '-o', label='UIE-DO-SE', color='orange')\n",
    "\n",
    "# Setting labels, title and legend\n",
    "plt.xlabel('Training Set Quantity')\n",
    "plt.ylabel('F1-score')\n",
    "plt.title('Entity Recognition Effect (Graph 1)')\n",
    "plt.legend()\n",
    "plt.grid(True)\n",
    "plt.tight_layout()\n",
    "# plt.show()\n",
    "# Save the plot as a transparent PNG\n",
    "graph1_path = \"entity_recognition_effect.png\"\n",
    "plt.savefig(graph1_path, transparent=True, format='png')\n",
    "plt.close()\n",
    "\n",
    "graph1_path\n"
   ],
   "metadata": {
    "collapsed": false
   },
   "id": "b8aa9160ae02a6a3"
  },
  {
   "cell_type": "code",
   "execution_count": null,
   "outputs": [],
   "source": [
    "y_uie_updated=[0.6244539884355655,\n",
    "  0.6869185998930093,\n",
    "  0.7574377460447907,\n",
    "  0.8101042802010822,\n",
    "  0.8469682251658308,\n",
    "  0.8792776224606946,\n",
    "  0.9179701660481077,\n",
    "  0.9311945917931878,\n",
    "  0.9497885448400392]\n",
    "y_uie_filter_updated=[0.618487222773865,\n",
    "  0.7001574105993862,\n",
    "  0.7937304401087721,\n",
    "  0.8478406024157455,\n",
    "  0.9034377041823266,\n",
    "  0.920214474137026,\n",
    "  0.951001318975339,\n",
    "  0.957,\n",
    "  0.960]\n",
    "y_uie_se_updated=[0.6028026167605968,\n",
    "  0.6738938840921284,\n",
    "  0.7920689617580019,\n",
    "  0.8985769311596687,\n",
    "  0.9223669099909525,\n",
    "  0.9452634569995054,\n",
    "  0.9522214565757271,\n",
    "  0.9545,\n",
    "  0.9565]\n",
    "y_uie_se_filter_updated=[0.5739030955791167,\n",
    "  0.6908362278143166,\n",
    "  0.8087741497987901,\n",
    "  0.9172779906857778,\n",
    "  0.9283702660692452,\n",
    "  0.945323708349373,\n",
    "  0.954008368879616,\n",
    "  0.9625,\n",
    "  0.9625]"
   ],
   "metadata": {
    "collapsed": false
   },
   "id": "3527caf29d89ff08"
  },
  {
   "cell_type": "code",
   "execution_count": null,
   "outputs": [],
   "source": [
    "# Plotting the smooth data for the second graph with transparent background\n",
    "\n",
    "plt.figure(figsize=(12, 7))\n",
    "\n",
    "plt.plot(x_updated, y_uie_updated, '-o', label='UIE', color='blue')\n",
    "plt.plot(x_updated, y_uie_se_updated, '-o', label='UIE-SE', color='red')\n",
    "plt.plot(x_updated, y_uie_filter_updated, '-o', label='UIE-Filter', color='purple')\n",
    "plt.plot(x_updated, y_uie_se_filter_updated, '-o', label='UIE-SE-Filter', color='orange')\n",
    "\n",
    "# Setting labels, title and legend\n",
    "plt.xlabel('Training Set Quantity')\n",
    "plt.ylabel('F1-score')\n",
    "plt.title('Relation Extraction Effect (Graph 2)')\n",
    "plt.legend()\n",
    "plt.grid(True)\n",
    "plt.tight_layout()\n",
    "# plt.show()\n",
    "# Save the plot as a transparent PNG\n",
    "graph2_path = \"relation_extraction_effect.png\"\n",
    "plt.savefig(graph2_path, transparent=True, format='png')\n",
    "plt.close()\n",
    "\n",
    "graph2_path\n"
   ],
   "metadata": {
    "collapsed": false
   },
   "id": "4b68d15403be27bb"
  }
 ],
 "metadata": {
  "kernelspec": {
   "display_name": "Python 3",
   "language": "python",
   "name": "python3"
  },
  "language_info": {
   "codemirror_mode": {
    "name": "ipython",
    "version": 2
   },
   "file_extension": ".py",
   "mimetype": "text/x-python",
   "name": "python",
   "nbconvert_exporter": "python",
   "pygments_lexer": "ipython2",
   "version": "2.7.6"
  }
 },
 "nbformat": 4,
 "nbformat_minor": 5
}
